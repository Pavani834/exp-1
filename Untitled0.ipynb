{
  "nbformat": 4,
  "nbformat_minor": 0,
  "metadata": {
    "colab": {
      "provenance": [],
      "authorship_tag": "ABX9TyPN2Bt4gRS/wccUGs9KrGow",
      "include_colab_link": true
    },
    "kernelspec": {
      "name": "python3",
      "display_name": "Python 3"
    },
    "language_info": {
      "name": "python"
    }
  },
  "cells": [
    {
      "cell_type": "markdown",
      "metadata": {
        "id": "view-in-github",
        "colab_type": "text"
      },
      "source": [
        "<a href=\"https://colab.research.google.com/github/Pavani834/exp-1/blob/main/Untitled0.ipynb\" target=\"_parent\"><img src=\"https://colab.research.google.com/assets/colab-badge.svg\" alt=\"Open In Colab\"/></a>"
      ]
    },
    {
      "cell_type": "code",
      "execution_count": 14,
      "metadata": {
        "colab": {
          "base_uri": "https://localhost:8080/"
        },
        "id": "6pTRm9Xh2rn5",
        "outputId": "fa4746a0-831e-4f08-fb0c-4de9067aca00"
      },
      "outputs": [
        {
          "output_type": "stream",
          "name": "stdout",
          "text": [
            "Weather Index :426.0\n",
            "Predicted Weather: Sunny\n",
            "\n",
            "Weather Index :287.0\n",
            "Predicted Weather: Cloudy\n",
            "\n",
            "Weather Index :591.5\n",
            "Predicted Weather: Sunny\n",
            "\n"
          ]
        }
      ],
      "source": [
        "data = [\n",
        "    (30, 50, 10),\n",
        "    (25, 60, 15),\n",
        "    (35, 40, 20)\n",
        "]\n",
        "for temperature, humidity, wind_speed in data:\n",
        "    weather_index = 0.5 * (temperature**2) - 0.2 * humidity + 0.1 * wind_speed - 15\n",
        "    if weather_index > 300:\n",
        "        prediction = \"Sunny\"\n",
        "    elif 200 <= weather_index <= 300:\n",
        "        prediction = \"Cloudy\"\n",
        "    elif 100 <= weather_index < 200:\n",
        "        prediction = \"Rainy\"\n",
        "    else:\n",
        "        prediction = \"Stormy\"\n",
        "    print(f\"Weather Index :{weather_index}\")\n",
        "    print(f\"Predicted Weather: {prediction}\\n\")"
      ]
    }
  ]
}